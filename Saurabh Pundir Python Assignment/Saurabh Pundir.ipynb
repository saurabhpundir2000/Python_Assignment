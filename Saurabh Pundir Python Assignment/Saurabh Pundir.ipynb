{
 "cells": [
  {
   "cell_type": "markdown",
   "id": "f15a7daf",
   "metadata": {},
   "source": [
    "# Saurabh Pundir"
   ]
  },
  {
   "cell_type": "markdown",
   "id": "df6e1a99",
   "metadata": {},
   "source": [
    "## Answer 1"
   ]
  },
  {
   "cell_type": "code",
   "execution_count": 2,
   "id": "66062ecf",
   "metadata": {
    "scrolled": true
   },
   "outputs": [
    {
     "name": "stdout",
     "output_type": "stream",
     "text": [
      "2002 2009 2016 2023 2037 2044 2051 2058 2072 2079 2086 2093 2107 2114 2121 2128 2142 2149 2156 2163 2177 2184 2191 2198 2212 2219 2226 2233 2247 2254 2261 2268 2282 2289 2296 2303 2317 2324 2331 2338 2352 2359 2366 2373 2387 2394 2401 2408 2422 2429 2436 2443 2457 2464 2471 2478 2492 2499 2506 2513 2527 2534 2541 2548 2562 2569 2576 2583 2597 2604 2611 2618 2632 2639 2646 2653 2667 2674 2681 2688 2702 2709 2716 2723 2737 2744 2751 2758 2772 2779 2786 2793 2807 2814 2821 2828 2842 2849 2856 2863 2877 2884 2891 2898 2912 2919 2926 2933 2947 2954 2961 2968 2982 2989 2996 3003 3017 3024 3031 3038 3052 3059 3066 3073 3087 3094 3101 3108 3122 3129 3136 3143 3157 3164 3171 3178 3192 3199\n"
     ]
    }
   ],
   "source": [
    "print(*[i for i in range(2000,3201) if not(i%7) and (i%5)])"
   ]
  },
  {
   "cell_type": "markdown",
   "id": "1b4063b8",
   "metadata": {},
   "source": [
    "# Answer 2"
   ]
  },
  {
   "cell_type": "code",
   "execution_count": null,
   "id": "7d86ada0",
   "metadata": {},
   "outputs": [],
   "source": [
    "def fact(x):\n",
    "    if x==0:\n",
    "        return 1\n",
    "\n",
    "    else:\n",
    "        return x*fact(x-1)\n",
    "no=int(input(\"Enter a Number: \"))\n",
    "print(fact(no))"
   ]
  },
  {
   "cell_type": "markdown",
   "id": "56d14516",
   "metadata": {},
   "source": [
    "## Answer 3"
   ]
  },
  {
   "cell_type": "code",
   "execution_count": 6,
   "id": "ab920f17",
   "metadata": {},
   "outputs": [
    {
     "name": "stdout",
     "output_type": "stream",
     "text": [
      "Ente a no: 8\n",
      "{1: 1, 2: 4, 3: 9, 4: 16, 5: 25, 6: 36, 7: 49, 8: 64}\n"
     ]
    }
   ],
   "source": [
    "n=int(input(\"Ente a no: \"))\n",
    "dict=dict()\n",
    "for i in range (1,n+1):\n",
    "    dict[i]=i*i\n",
    "print(dict)"
   ]
  },
  {
   "cell_type": "markdown",
   "id": "3d3ed751",
   "metadata": {},
   "source": [
    "## Answer 4"
   ]
  },
  {
   "cell_type": "code",
   "execution_count": 10,
   "id": "f63f1053",
   "metadata": {},
   "outputs": [
    {
     "name": "stdout",
     "output_type": "stream",
     "text": [
      "Enter values: 34,67,55,33,12,98\n",
      "['34', '67', '55', '33', '12', '98'] ('34', '67', '55', '33', '12', '98')\n"
     ]
    }
   ],
   "source": [
    "num=input(\"Enter values: \")\n",
    "num_list=list(num.split(','))\n",
    "num_tuple=tuple(num_list)\n",
    "print(f'{num_list} {num_tuple}')"
   ]
  },
  {
   "cell_type": "markdown",
   "id": "975a5296",
   "metadata": {},
   "source": [
    "## Answer 5"
   ]
  },
  {
   "cell_type": "code",
   "execution_count": 12,
   "id": "36b67707",
   "metadata": {},
   "outputs": [
    {
     "name": "stdout",
     "output_type": "stream",
     "text": [
      "enter a string: hello i am saurabh\n",
      "HELLO I AM SAURABH\n"
     ]
    }
   ],
   "source": [
    "class Ans5:\n",
    "    def __init__(self):\n",
    "        self.str=str\n",
    "    def getString(self):\n",
    "        self.str=input(\"enter a string: \")\n",
    "    def printString(self):\n",
    "        print(self.str.upper())\n",
    "str=Ans5()\n",
    "str.getString()\n",
    "str.printString()\n"
   ]
  },
  {
   "cell_type": "markdown",
   "id": "051113e1",
   "metadata": {},
   "source": [
    "## Answer 6"
   ]
  },
  {
   "cell_type": "code",
   "execution_count": 32,
   "id": "c3db50e9",
   "metadata": {},
   "outputs": [
    {
     "name": "stdout",
     "output_type": "stream",
     "text": [
      "enter values: 100,150,180\n",
      "18,22,24,"
     ]
    }
   ],
   "source": [
    "import math\n",
    "n=list(map(int,input(\"enter values: \").split(',')))\n",
    "c,h=50,30\n",
    "for d in n:\n",
    "    res=round(math.sqrt(2*c*int(d)/h))       \n",
    "    print(res,end=',')"
   ]
  },
  {
   "cell_type": "markdown",
   "id": "332c8050",
   "metadata": {},
   "source": [
    "## Answer 7"
   ]
  },
  {
   "cell_type": "code",
   "execution_count": 36,
   "id": "ae0475af",
   "metadata": {},
   "outputs": [
    {
     "name": "stdout",
     "output_type": "stream",
     "text": [
      "enter row , column: 3,5\n",
      "[[0, 0, 0, 0, 0], [0, 1, 2, 3, 4], [0, 2, 4, 6, 8]]\n"
     ]
    }
   ],
   "source": [
    "r,c=input(\"enter row , column: \").split(',')\n",
    "r=int(r)\n",
    "c=int(c)\n",
    "array=[[x*y for y in range(c)]for x in range(r)]\n",
    "print(array)\n",
    "          "
   ]
  },
  {
   "cell_type": "markdown",
   "id": "10b2b622",
   "metadata": {},
   "source": [
    "## Answer 8"
   ]
  },
  {
   "cell_type": "code",
   "execution_count": 37,
   "id": "2fca93b8",
   "metadata": {},
   "outputs": [
    {
     "name": "stdout",
     "output_type": "stream",
     "text": [
      "enter words: without,hello,bag,world\n",
      "bag,hello,without,world\n"
     ]
    }
   ],
   "source": [
    "words=input(\"enter words: \").split(',')\n",
    "words.sort()\n",
    "print(','.join(words))"
   ]
  },
  {
   "cell_type": "markdown",
   "id": "2fa8691c",
   "metadata": {},
   "source": [
    "## Answer 9"
   ]
  },
  {
   "cell_type": "code",
   "execution_count": 1,
   "id": "adec9e5a",
   "metadata": {},
   "outputs": [
    {
     "name": "stdout",
     "output_type": "stream",
     "text": [
      "enter lines: hello world\n",
      "enter lines: i am\n",
      "enter lines: \n",
      "HELLO WORLD\n",
      "I AM\n"
     ]
    }
   ],
   "source": [
    "lines=[]\n",
    "while True:\n",
    "    input_lines=input(\"enter lines: \")\n",
    "    if(input_lines):\n",
    "        lines.append(input_lines.upper())\n",
    "    else:\n",
    "        break\n",
    "for i in lines:\n",
    "    print(i)"
   ]
  },
  {
   "cell_type": "markdown",
   "id": "1dd30f5f",
   "metadata": {},
   "source": [
    "## Answer 10"
   ]
  },
  {
   "cell_type": "code",
   "execution_count": 39,
   "id": "1f1375f9",
   "metadata": {},
   "outputs": [
    {
     "name": "stdout",
     "output_type": "stream",
     "text": [
      "enter words: hello world and practice makes perfect and hello world again\n",
      "again and hello makes perfect practice world\n"
     ]
    }
   ],
   "source": [
    "words=input(\"enter words: \").split(\" \")\n",
    "words=sorted(list(set(words)))\n",
    "print(' '.join(words))"
   ]
  },
  {
   "cell_type": "markdown",
   "id": "2609f3b5",
   "metadata": {},
   "source": [
    "## Answer 11"
   ]
  },
  {
   "cell_type": "markdown",
   "id": "85b50264",
   "metadata": {},
   "source": [
    "bin=list(input(\"enter binary numbers: \").split(\",\"))\n",
    "res=[]\n",
    "for i in bin:\n",
    "    if not int(i,2)%5:\n",
    "        res.append(i)\n",
    "print(\"ouput: \",\",\".join(res))"
   ]
  },
  {
   "cell_type": "markdown",
   "id": "cc565562",
   "metadata": {},
   "source": [
    "## Answer 12"
   ]
  },
  {
   "cell_type": "code",
   "execution_count": 50,
   "id": "ded3962e",
   "metadata": {},
   "outputs": [
    {
     "name": "stdout",
     "output_type": "stream",
     "text": [
      "1000,1002,1004,1006,1008,1010,1012,1014,1016,1018,1020,1022,1024,1026,1028,1030,1032,1034,1036,1038,1040,1042,1044,1046,1048,1050,1052,1054,1056,1058,1060,1062,1064,1066,1068,1070,1072,1074,1076,1078,1080,1082,1084,1086,1088,1090,1092,1094,1096,1098,1100,1102,1104,1106,1108,1110,1112,1114,1116,1118,1120,1122,1124,1126,1128,1130,1132,1134,1136,1138,1140,1142,1144,1146,1148,1150,1152,1154,1156,1158,1160,1162,1164,1166,1168,1170,1172,1174,1176,1178,1180,1182,1184,1186,1188,1190,1192,1194,1196,1198,1200,1202,1204,1206,1208,1210,1212,1214,1216,1218,1220,1222,1224,1226,1228,1230,1232,1234,1236,1238,1240,1242,1244,1246,1248,1250,1252,1254,1256,1258,1260,1262,1264,1266,1268,1270,1272,1274,1276,1278,1280,1282,1284,1286,1288,1290,1292,1294,1296,1298,1300,1302,1304,1306,1308,1310,1312,1314,1316,1318,1320,1322,1324,1326,1328,1330,1332,1334,1336,1338,1340,1342,1344,1346,1348,1350,1352,1354,1356,1358,1360,1362,1364,1366,1368,1370,1372,1374,1376,1378,1380,1382,1384,1386,1388,1390,1392,1394,1396,1398,1400,1402,1404,1406,1408,1410,1412,1414,1416,1418,1420,1422,1424,1426,1428,1430,1432,1434,1436,1438,1440,1442,1444,1446,1448,1450,1452,1454,1456,1458,1460,1462,1464,1466,1468,1470,1472,1474,1476,1478,1480,1482,1484,1486,1488,1490,1492,1494,1496,1498,1500,1502,1504,1506,1508,1510,1512,1514,1516,1518,1520,1522,1524,1526,1528,1530,1532,1534,1536,1538,1540,1542,1544,1546,1548,1550,1552,1554,1556,1558,1560,1562,1564,1566,1568,1570,1572,1574,1576,1578,1580,1582,1584,1586,1588,1590,1592,1594,1596,1598,1600,1602,1604,1606,1608,1610,1612,1614,1616,1618,1620,1622,1624,1626,1628,1630,1632,1634,1636,1638,1640,1642,1644,1646,1648,1650,1652,1654,1656,1658,1660,1662,1664,1666,1668,1670,1672,1674,1676,1678,1680,1682,1684,1686,1688,1690,1692,1694,1696,1698,1700,1702,1704,1706,1708,1710,1712,1714,1716,1718,1720,1722,1724,1726,1728,1730,1732,1734,1736,1738,1740,1742,1744,1746,1748,1750,1752,1754,1756,1758,1760,1762,1764,1766,1768,1770,1772,1774,1776,1778,1780,1782,1784,1786,1788,1790,1792,1794,1796,1798,1800,1802,1804,1806,1808,1810,1812,1814,1816,1818,1820,1822,1824,1826,1828,1830,1832,1834,1836,1838,1840,1842,1844,1846,1848,1850,1852,1854,1856,1858,1860,1862,1864,1866,1868,1870,1872,1874,1876,1878,1880,1882,1884,1886,1888,1890,1892,1894,1896,1898,1900,1902,1904,1906,1908,1910,1912,1914,1916,1918,1920,1922,1924,1926,1928,1930,1932,1934,1936,1938,1940,1942,1944,1946,1948,1950,1952,1954,1956,1958,1960,1962,1964,1966,1968,1970,1972,1974,1976,1978,1980,1982,1984,1986,1988,1990,1992,1994,1996,1998,2000,2002,2004,2006,2008,2010,2012,2014,2016,2018,2020,2022,2024,2026,2028,2030,2032,2034,2036,2038,2040,2042,2044,2046,2048,2050,2052,2054,2056,2058,2060,2062,2064,2066,2068,2070,2072,2074,2076,2078,2080,2082,2084,2086,2088,2090,2092,2094,2096,2098,2100,2102,2104,2106,2108,2110,2112,2114,2116,2118,2120,2122,2124,2126,2128,2130,2132,2134,2136,2138,2140,2142,2144,2146,2148,2150,2152,2154,2156,2158,2160,2162,2164,2166,2168,2170,2172,2174,2176,2178,2180,2182,2184,2186,2188,2190,2192,2194,2196,2198,2200,2202,2204,2206,2208,2210,2212,2214,2216,2218,2220,2222,2224,2226,2228,2230,2232,2234,2236,2238,2240,2242,2244,2246,2248,2250,2252,2254,2256,2258,2260,2262,2264,2266,2268,2270,2272,2274,2276,2278,2280,2282,2284,2286,2288,2290,2292,2294,2296,2298,2300,2302,2304,2306,2308,2310,2312,2314,2316,2318,2320,2322,2324,2326,2328,2330,2332,2334,2336,2338,2340,2342,2344,2346,2348,2350,2352,2354,2356,2358,2360,2362,2364,2366,2368,2370,2372,2374,2376,2378,2380,2382,2384,2386,2388,2390,2392,2394,2396,2398,2400,2402,2404,2406,2408,2410,2412,2414,2416,2418,2420,2422,2424,2426,2428,2430,2432,2434,2436,2438,2440,2442,2444,2446,2448,2450,2452,2454,2456,2458,2460,2462,2464,2466,2468,2470,2472,2474,2476,2478,2480,2482,2484,2486,2488,2490,2492,2494,2496,2498,2500,2502,2504,2506,2508,2510,2512,2514,2516,2518,2520,2522,2524,2526,2528,2530,2532,2534,2536,2538,2540,2542,2544,2546,2548,2550,2552,2554,2556,2558,2560,2562,2564,2566,2568,2570,2572,2574,2576,2578,2580,2582,2584,2586,2588,2590,2592,2594,2596,2598,2600,2602,2604,2606,2608,2610,2612,2614,2616,2618,2620,2622,2624,2626,2628,2630,2632,2634,2636,2638,2640,2642,2644,2646,2648,2650,2652,2654,2656,2658,2660,2662,2664,2666,2668,2670,2672,2674,2676,2678,2680,2682,2684,2686,2688,2690,2692,2694,2696,2698,2700,2702,2704,2706,2708,2710,2712,2714,2716,2718,2720,2722,2724,2726,2728,2730,2732,2734,2736,2738,2740,2742,2744,2746,2748,2750,2752,2754,2756,2758,2760,2762,2764,2766,2768,2770,2772,2774,2776,2778,2780,2782,2784,2786,2788,2790,2792,2794,2796,2798,2800,2802,2804,2806,2808,2810,2812,2814,2816,2818,2820,2822,2824,2826,2828,2830,2832,2834,2836,2838,2840,2842,2844,2846,2848,2850,2852,2854,2856,2858,2860,2862,2864,2866,2868,2870,2872,2874,2876,2878,2880,2882,2884,2886,2888,2890,2892,2894,2896,2898,2900,2902,2904,2906,2908,2910,2912,2914,2916,2918,2920,2922,2924,2926,2928,2930,2932,2934,2936,2938,2940,2942,2944,2946,2948,2950,2952,2954,2956,2958,2960,2962,2964,2966,2968,2970,2972,2974,2976,2978,2980,2982,2984,2986,2988,2990,2992,2994,2996,2998,3000,"
     ]
    }
   ],
   "source": [
    "for i in range(1000,3001):\n",
    "    if(i%2==0):\n",
    "        print(i,end=',')"
   ]
  },
  {
   "cell_type": "markdown",
   "id": "fe1b9151",
   "metadata": {},
   "source": [
    "## Answer 13"
   ]
  },
  {
   "cell_type": "code",
   "execution_count": 2,
   "id": "d269d964",
   "metadata": {},
   "outputs": [
    {
     "name": "stdout",
     "output_type": "stream",
     "text": [
      "enter a stringhello world 123\n",
      "Letters 10 \n",
      "Digits 3\n"
     ]
    }
   ],
   "source": [
    "s=input('enter a string')\n",
    "l,n=0,0\n",
    "for i in s:\n",
    "    if i.isalpha():\n",
    "        l+=1\n",
    "    elif i.isnumeric():\n",
    "        n+=1\n",
    "    else:\n",
    "        pass\n",
    "print(f'Letters {l} \\nDigits {n}')"
   ]
  },
  {
   "cell_type": "markdown",
   "id": "8ec0929c",
   "metadata": {},
   "source": [
    "## Answer 14"
   ]
  },
  {
   "cell_type": "code",
   "execution_count": 3,
   "id": "1608ed11",
   "metadata": {},
   "outputs": [
    {
     "name": "stdout",
     "output_type": "stream",
     "text": [
      "enter a stringHello world!\n",
      "Upper 1 \n",
      "Lower 9\n"
     ]
    }
   ],
   "source": [
    "s=input('enter a string')\n",
    "u,l=0,0\n",
    "for i in s:\n",
    "    if i.isupper():\n",
    "        u+=1\n",
    "    elif i.islower():\n",
    "        l+=1\n",
    "    else:\n",
    "        pass\n",
    "print(f'Upper {u} \\nLower {l}')"
   ]
  },
  {
   "cell_type": "markdown",
   "id": "4345dcee",
   "metadata": {},
   "source": [
    "## Answer 16"
   ]
  },
  {
   "cell_type": "code",
   "execution_count": 4,
   "id": "19acd132",
   "metadata": {},
   "outputs": [
    {
     "name": "stdout",
     "output_type": "stream",
     "text": [
      "enter numbers: 1,2,3,4,5,6,7,8,9\n",
      "1,9,25,49,81\n"
     ]
    }
   ],
   "source": [
    "num = input(\"enter numbers: \").split(\",\")\n",
    "num_list = list(map(int,num))\n",
    "sq_odd_list = list(map(str,[i**2 for i in num_list if i%2 != 0]))\n",
    "print(','.join(sq_odd_list))"
   ]
  },
  {
   "cell_type": "markdown",
   "id": "721d603e",
   "metadata": {},
   "source": [
    "## Answer 17"
   ]
  },
  {
   "cell_type": "code",
   "execution_count": 7,
   "id": "f8f8876c",
   "metadata": {},
   "outputs": [
    {
     "name": "stdout",
     "output_type": "stream",
     "text": [
      "enter task: D 300\n",
      "enter task: D 300\n",
      "enter task: W 200\n",
      "enter task: D 100\n",
      "enter task: \n",
      "500\n"
     ]
    }
   ],
   "source": [
    "amount=0\n",
    "while True:\n",
    "    log=input(\"enter task: \")\n",
    "    if log==\"\":\n",
    "        break\n",
    "    else:\n",
    "        log=log.split(\" \")\n",
    "        if(log[0]==\"D\"):\n",
    "            amount+=int(log[1])\n",
    "        elif(log[0]==\"W\"):\n",
    "            amount-=int(log[1])\n",
    "print(amount)"
   ]
  },
  {
   "cell_type": "markdown",
   "id": "a1b3a55b",
   "metadata": {},
   "source": [
    "## Answer 18"
   ]
  },
  {
   "cell_type": "code",
   "execution_count": 11,
   "id": "7a886c39",
   "metadata": {},
   "outputs": [
    {
     "name": "stdout",
     "output_type": "stream",
     "text": [
      "enter password: ABd1234@1,a F1#,2w3E*,2We3345\n",
      "ABd1234@1\n"
     ]
    }
   ],
   "source": [
    "import re\n",
    "inp=input(\"enter password: \").split(',')\n",
    "pattern=re.compile(r'(?=.*[0-9])(?=.*[A-Z])(?=.*[a-z])(?=.*[@#$]).{6,12}$')\n",
    "for i in inp:\n",
    "    match=re.findall(pattern,i)\n",
    "    if(match):\n",
    "        print(i)"
   ]
  },
  {
   "cell_type": "markdown",
   "id": "694f6911",
   "metadata": {},
   "source": [
    "## Answer 19"
   ]
  },
  {
   "cell_type": "code",
   "execution_count": 22,
   "id": "36ffafa5",
   "metadata": {
    "scrolled": true
   },
   "outputs": [
    {
     "name": "stdout",
     "output_type": "stream",
     "text": [
      "enter name: age: score= Tom,19,80\n",
      "enter name: age: score= John,20,90\n",
      "enter name: age: score= Jony,17,91\n",
      "enter name: age: score= Jony,17,93\n",
      "enter name: age: score= Json,21,85\n",
      "enter name: age: score= \n",
      "[['John', '20', '90'], ['Jony', '17', '91'], ['Jony', '17', '93'], ['Json', '21', '85'], ['Tom', '19', '80']]\n"
     ]
    }
   ],
   "source": [
    "from operator import itemgetter\n",
    "list=[]\n",
    "while True:\n",
    "    inp=input(\"enter name: age: score= \")\n",
    "    if inp:\n",
    "        list.append(inp.split(','))\n",
    "    else:\n",
    "        break\n",
    "print(sorted(list, key=itemgetter(0,1,2)))"
   ]
  },
  {
   "cell_type": "markdown",
   "id": "f690223b",
   "metadata": {},
   "source": [
    "## Answer 20"
   ]
  },
  {
   "cell_type": "code",
   "execution_count": 26,
   "id": "0dd5cd54",
   "metadata": {},
   "outputs": [
    {
     "name": "stdout",
     "output_type": "stream",
     "text": [
      "enter a number: 100\n",
      "0\n",
      "7\n",
      "14\n",
      "21\n",
      "28\n",
      "35\n",
      "42\n",
      "49\n",
      "56\n",
      "63\n",
      "70\n",
      "77\n",
      "84\n",
      "91\n",
      "98\n"
     ]
    }
   ],
   "source": [
    "class ans20:\n",
    "    def __init__(self,n):\n",
    "        self.n=n\n",
    "    def divby7(self):\n",
    "        for i in range(0,self.n):\n",
    "            if(i%7==0):\n",
    "                yield i\n",
    "n=int(input(\"enter a number: \")  )              \n",
    "for i in ans20(n).divby7():\n",
    "    print(i)\n"
   ]
  },
  {
   "cell_type": "markdown",
   "id": "50ec9f5e",
   "metadata": {},
   "source": [
    "## Answer 21"
   ]
  },
  {
   "cell_type": "code",
   "execution_count": 29,
   "id": "c447a259",
   "metadata": {},
   "outputs": [
    {
     "name": "stdout",
     "output_type": "stream",
     "text": [
      "enter robot moves: UP 5\n",
      "enter robot moves: DOWN 3\n",
      "enter robot moves: LEFT 3\n",
      "enter robot moves: RIGHT 2\n",
      "enter robot moves: \n",
      "2\n"
     ]
    }
   ],
   "source": [
    "import math\n",
    "\n",
    "position=[0,0]\n",
    "while True:\n",
    "    move=input(\"enter robot moves: \")\n",
    "    position_value=move.split(' ')\n",
    "\n",
    "    if(position_value[0].lower()=='up'):\n",
    "        position[0]+=int(position_value[1])\n",
    "\n",
    "    elif(position_value[0].lower()=='down'):\n",
    "        position[0]-=int(position_value[1])\n",
    "\n",
    "    elif(position_value[0].lower()=='right'):\n",
    "        position[1]+=int(position_value[1])\n",
    "\n",
    "    elif(position_value[0].lower()=='left'):\n",
    "        position[1]-=int(position_value[1])\n",
    "    else:\n",
    "        break\n",
    "\n",
    "print (int(round(math.sqrt(position[0]**2 + position[1]**2))))"
   ]
  },
  {
   "cell_type": "markdown",
   "id": "6c31f920",
   "metadata": {},
   "source": [
    "## Answer 22"
   ]
  },
  {
   "cell_type": "code",
   "execution_count": 31,
   "id": "7a12636b",
   "metadata": {},
   "outputs": [
    {
     "name": "stdout",
     "output_type": "stream",
     "text": [
      "enter a string: New to Python or choosing between Python 2 and Python 3? Read Python 2 or Python 3\n",
      "2: 2\n",
      "3: 1\n",
      "3?: 1\n",
      "New: 1\n",
      "Python: 5\n",
      "Read: 1\n",
      "and: 1\n",
      "between: 1\n",
      "choosing: 1\n",
      "or: 2\n",
      "to: 1\n"
     ]
    }
   ],
   "source": [
    "str=input(\"enter a string: \").split()\n",
    "set_str=sorted(set(str))\n",
    "for words in set_str:\n",
    "    print(f'{words}: {str.count(words)}')\n"
   ]
  },
  {
   "cell_type": "markdown",
   "id": "735fd579",
   "metadata": {},
   "source": [
    "## Answer 23"
   ]
  },
  {
   "cell_type": "code",
   "execution_count": 34,
   "id": "e6b91ef7",
   "metadata": {},
   "outputs": [
    {
     "name": "stdout",
     "output_type": "stream",
     "text": [
      "enter a number: 2\n",
      "4\n"
     ]
    }
   ],
   "source": [
    "def sq(n):\n",
    "    return n**2\n",
    "print(sq(int(input(\"enter a number: \"))))"
   ]
  },
  {
   "cell_type": "markdown",
   "id": "82eea22e",
   "metadata": {},
   "source": [
    "## Answer 24"
   ]
  },
  {
   "cell_type": "code",
   "execution_count": 35,
   "id": "6f7781ed",
   "metadata": {},
   "outputs": [
    {
     "name": "stdout",
     "output_type": "stream",
     "text": [
      "Return the absolute value of the argument.\n",
      "int([x]) -> integer\n",
      "int(x, base=10) -> integer\n",
      "\n",
      "Convert a number or string to an integer, or return 0 if no arguments\n",
      "are given.  If x is a number, return x.__int__().  For floating point\n",
      "numbers, this truncates towards zero.\n",
      "\n",
      "If x is not a number or if base is given, then x must be a string,\n",
      "bytes, or bytearray instance representing an integer literal in the\n",
      "given base.  The literal can be preceded by '+' or '-' and be surrounded\n",
      "by whitespace.  The base defaults to 10.  Valid bases are 0 and 2-36.\n",
      "Base 0 means to interpret the base from the string as an integer literal.\n",
      ">>> int('0b100', base=0)\n",
      "4\n",
      "Forward raw_input to frontends\n",
      "\n",
      "        Raises\n",
      "        ------\n",
      "        StdinNotImplementedError if active frontend doesn't support stdin.\n",
      "        \n",
      "None\n"
     ]
    }
   ],
   "source": [
    "print(abs.__doc__)\n",
    "print(int.__doc__)\n",
    "print(input.__doc__)\n",
    "\n",
    "def sq(n):\n",
    "    return n**2\n",
    "print(sq.__doc__)"
   ]
  },
  {
   "cell_type": "markdown",
   "id": "15b0afb3",
   "metadata": {},
   "source": [
    "## Answer 25"
   ]
  },
  {
   "cell_type": "code",
   "execution_count": 42,
   "id": "345fa380",
   "metadata": {},
   "outputs": [
    {
     "name": "stdout",
     "output_type": "stream",
     "text": [
      "saurabh\n"
     ]
    }
   ],
   "source": [
    "class emp:\n",
    "    def __init__(self,name):\n",
    "        self.name=name\n",
    "\n",
    "e1=emp(\"saurabh\")\n",
    "print(e1.name)\n",
    "\n"
   ]
  },
  {
   "cell_type": "markdown",
   "id": "86b7fd04",
   "metadata": {},
   "source": [
    "## Answer 26"
   ]
  },
  {
   "cell_type": "code",
   "execution_count": 43,
   "id": "3671ce92",
   "metadata": {},
   "outputs": [
    {
     "name": "stdout",
     "output_type": "stream",
     "text": [
      "3\n"
     ]
    }
   ],
   "source": [
    "def sum(a,b):\n",
    "    return a+b\n",
    "print(sum(1,2))"
   ]
  },
  {
   "cell_type": "markdown",
   "id": "9a7d128c",
   "metadata": {},
   "source": [
    "## Answer 27"
   ]
  },
  {
   "cell_type": "code",
   "execution_count": 4,
   "id": "4e8ba1c9",
   "metadata": {},
   "outputs": [
    {
     "name": "stdout",
     "output_type": "stream",
     "text": [
      "5\n"
     ]
    }
   ],
   "source": [
    "def convert_num(n):\n",
    "    n=str(n)\n",
    "    print(n)\n",
    "#     print(type(n))\n",
    "          \n",
    "convert_num(5)\n"
   ]
  },
  {
   "cell_type": "markdown",
   "id": "a4974dca",
   "metadata": {},
   "source": [
    "## Answer 28"
   ]
  },
  {
   "cell_type": "code",
   "execution_count": 5,
   "id": "9bbd7e3e",
   "metadata": {
    "scrolled": false
   },
   "outputs": [
    {
     "data": {
      "text/plain": [
       "3"
      ]
     },
     "execution_count": 5,
     "metadata": {},
     "output_type": "execute_result"
    }
   ],
   "source": [
    "def sum(a,b):\n",
    "    return (int(a)+int(b))\n",
    "sum(\"1\",\"2\")"
   ]
  },
  {
   "cell_type": "markdown",
   "id": "f22c1c0a",
   "metadata": {},
   "source": [
    "## Answer 29"
   ]
  },
  {
   "cell_type": "code",
   "execution_count": 6,
   "id": "3722259a",
   "metadata": {},
   "outputs": [
    {
     "data": {
      "text/plain": [
       "'12'"
      ]
     },
     "execution_count": 6,
     "metadata": {},
     "output_type": "execute_result"
    }
   ],
   "source": [
    "def sum(a,b):\n",
    "    return (a+b)\n",
    "sum(\"1\",\"2\")"
   ]
  },
  {
   "cell_type": "markdown",
   "id": "0df63010",
   "metadata": {},
   "source": [
    "## Answer 30"
   ]
  },
  {
   "cell_type": "code",
   "execution_count": 8,
   "id": "a785d435",
   "metadata": {},
   "outputs": [
    {
     "name": "stdout",
     "output_type": "stream",
     "text": [
      "enter two string: hello saurabh\n",
      "saurabh 7\n"
     ]
    }
   ],
   "source": [
    "inp=input(\"enter two string: \").split(\" \")\n",
    "print(max(inp,key=len),len(max(inp,key=len)))\n"
   ]
  },
  {
   "cell_type": "markdown",
   "id": "49bac2b9",
   "metadata": {},
   "source": [
    "## Answer 31"
   ]
  },
  {
   "cell_type": "code",
   "execution_count": 2,
   "id": "44b6df64",
   "metadata": {},
   "outputs": [
    {
     "name": "stdout",
     "output_type": "stream",
     "text": [
      "{1: 1, 2: 4, 3: 9, 4: 16, 5: 25, 6: 36, 7: 49, 8: 64, 9: 81, 10: 100, 11: 121, 12: 144, 13: 169, 14: 196, 15: 225, 16: 256, 17: 289, 18: 324, 19: 361, 20: 400}\n"
     ]
    }
   ],
   "source": [
    "def printdict():\n",
    "    dict={}\n",
    "    for i in range (1,21):\n",
    "        dict[i]=i*i\n",
    "    print(dict)\n",
    "printdict()"
   ]
  },
  {
   "cell_type": "markdown",
   "id": "6095b15b",
   "metadata": {},
   "source": [
    "## Answer 32"
   ]
  },
  {
   "cell_type": "code",
   "execution_count": 5,
   "id": "73b64469",
   "metadata": {},
   "outputs": [
    {
     "name": "stdout",
     "output_type": "stream",
     "text": [
      "dict_keys([1, 2, 3, 4, 5, 6, 7, 8, 9, 10, 11, 12, 13, 14, 15, 16, 17, 18, 19, 20])\n"
     ]
    }
   ],
   "source": [
    "def printKeys():\n",
    "    dict={}\n",
    "    for i in range (1,21):\n",
    "        dict[i]=i*i\n",
    "    print(dict.keys())\n",
    "printKeys()"
   ]
  },
  {
   "cell_type": "markdown",
   "id": "660ebd53",
   "metadata": {},
   "source": [
    "## Answer 33"
   ]
  },
  {
   "cell_type": "code",
   "execution_count": 3,
   "id": "528d3e18",
   "metadata": {},
   "outputs": [
    {
     "name": "stdout",
     "output_type": "stream",
     "text": [
      "[1, 4, 9, 16, 25, 36, 49, 64, 81, 100, 121, 144, 169, 196, 225, 256, 289, 324, 361, 400]\n"
     ]
    }
   ],
   "source": [
    "def printList():\n",
    "    list=[i*i for i in range(1,21)]\n",
    "    print(list)\n",
    "printList()"
   ]
  },
  {
   "cell_type": "markdown",
   "id": "1342081c",
   "metadata": {},
   "source": [
    "## Answer 34"
   ]
  },
  {
   "cell_type": "code",
   "execution_count": 7,
   "id": "8152bf4a",
   "metadata": {},
   "outputs": [
    {
     "name": "stdout",
     "output_type": "stream",
     "text": [
      "1\n",
      "4\n",
      "9\n",
      "16\n",
      "25\n"
     ]
    }
   ],
   "source": [
    "def printList5():\n",
    "    list=[i*i for i in range(1,21)]\n",
    "#     print(list)\n",
    "    for i in list[:5]:\n",
    "        print(i)\n",
    "printList5()"
   ]
  },
  {
   "cell_type": "markdown",
   "id": "773c961b",
   "metadata": {},
   "source": [
    "## Answer 35"
   ]
  },
  {
   "cell_type": "code",
   "execution_count": 9,
   "id": "9475da42",
   "metadata": {},
   "outputs": [
    {
     "name": "stdout",
     "output_type": "stream",
     "text": [
      "256\n",
      "289\n",
      "324\n",
      "361\n",
      "400\n"
     ]
    }
   ],
   "source": [
    "def printLast5():\n",
    "    list=[i*i for i in range(1,21)]\n",
    "#     print(list)\n",
    "    for i in list[-5:]:\n",
    "        print(i)\n",
    "printLast5()"
   ]
  },
  {
   "cell_type": "markdown",
   "id": "8c65936b",
   "metadata": {},
   "source": [
    "## Answer 36"
   ]
  },
  {
   "cell_type": "code",
   "execution_count": 10,
   "id": "9e7acd20",
   "metadata": {},
   "outputs": [
    {
     "name": "stdout",
     "output_type": "stream",
     "text": [
      "36\n",
      "49\n",
      "64\n",
      "81\n",
      "100\n",
      "121\n",
      "144\n",
      "169\n",
      "196\n",
      "225\n",
      "256\n",
      "289\n",
      "324\n",
      "361\n",
      "400\n"
     ]
    }
   ],
   "source": [
    "def printexcept5():\n",
    "    list=[i*i for i in range(1,21)]\n",
    "#     print(list)\n",
    "    for i in list[5:20]:\n",
    "        print(i)\n",
    "printexcept5()"
   ]
  },
  {
   "cell_type": "markdown",
   "id": "d47c815b",
   "metadata": {},
   "source": [
    "## Answer 37"
   ]
  },
  {
   "cell_type": "code",
   "execution_count": 11,
   "id": "4322ef0d",
   "metadata": {},
   "outputs": [
    {
     "name": "stdout",
     "output_type": "stream",
     "text": [
      "(1, 4, 9, 16, 25, 36, 49, 64, 81, 100, 121, 144, 169, 196, 225, 256, 289, 324, 361, 400)\n"
     ]
    }
   ],
   "source": [
    "def printList():\n",
    "    list=[i*i for i in range(1,21)]\n",
    "    print(tuple(list))\n",
    "printList()"
   ]
  },
  {
   "cell_type": "markdown",
   "id": "d6e4378d",
   "metadata": {},
   "source": [
    "## Answer 38"
   ]
  },
  {
   "cell_type": "code",
   "execution_count": 12,
   "id": "0f0ad6e0",
   "metadata": {},
   "outputs": [
    {
     "name": "stdout",
     "output_type": "stream",
     "text": [
      "(1, 2, 3, 4, 5)\n",
      "(6, 7, 8, 9, 10)\n"
     ]
    }
   ],
   "source": [
    "t=(1,2,3,4,5,6,7,8,9,10)\n",
    "t1=t[:5]\n",
    "t2=t[5:]\n",
    "print(t1)\n",
    "print(t2)"
   ]
  },
  {
   "cell_type": "markdown",
   "id": "d6ee5161",
   "metadata": {},
   "source": [
    "## Answer 39"
   ]
  },
  {
   "cell_type": "code",
   "execution_count": 15,
   "id": "3962850f",
   "metadata": {},
   "outputs": [
    {
     "name": "stdout",
     "output_type": "stream",
     "text": [
      "(2, 4, 6, 8, 10)\n"
     ]
    }
   ],
   "source": [
    "t=(1,2,3,4,5,6,7,8,9,10)\n",
    "teven=tuple(i for i in t if(i%2==0))\n",
    "print(teven)"
   ]
  },
  {
   "cell_type": "markdown",
   "id": "2c98bc41",
   "metadata": {},
   "source": [
    "## Answer 40"
   ]
  },
  {
   "cell_type": "code",
   "execution_count": 18,
   "id": "dbc1ca00",
   "metadata": {},
   "outputs": [
    {
     "name": "stdout",
     "output_type": "stream",
     "text": [
      "Yes\n",
      "Yes\n"
     ]
    }
   ],
   "source": [
    "ch=input()\n",
    "if (ch=='yes' or ch=='YES' or ch=='Yes'):\n",
    "    print(\"Yes\")\n",
    "else:\n",
    "    print(\"No\")"
   ]
  },
  {
   "cell_type": "markdown",
   "id": "7d92bbb2",
   "metadata": {},
   "source": [
    "## Answer 41"
   ]
  },
  {
   "cell_type": "code",
   "execution_count": 1,
   "id": "58a03a18",
   "metadata": {},
   "outputs": [
    {
     "name": "stdout",
     "output_type": "stream",
     "text": [
      "[1, 4, 9, 16, 25, 36, 49, 64, 81, 100]\n"
     ]
    }
   ],
   "source": [
    "list1=[1,2,3,4,5,6,7,8,9,10]\n",
    "list_square=map(lambda i:i**2,list1)\n",
    "print(list(list_square))\n"
   ]
  },
  {
   "cell_type": "markdown",
   "id": "2ec7b7da",
   "metadata": {},
   "source": [
    "## Answer 42"
   ]
  },
  {
   "cell_type": "code",
   "execution_count": 2,
   "id": "4c5787ab",
   "metadata": {},
   "outputs": [
    {
     "name": "stdout",
     "output_type": "stream",
     "text": [
      "[4, 16, 36, 64, 100]\n"
     ]
    }
   ],
   "source": [
    "list1=[1,2,3,4,5,6,7,8,9,10]\n",
    "list_even_square=map(lambda i:i**2,filter( lambda i:i%2==0,list1))\n",
    "print(list(list_even_square))"
   ]
  },
  {
   "cell_type": "markdown",
   "id": "016352f6",
   "metadata": {},
   "source": [
    "## Answer 43"
   ]
  },
  {
   "cell_type": "code",
   "execution_count": 6,
   "id": "8a253ea0",
   "metadata": {},
   "outputs": [
    {
     "name": "stdout",
     "output_type": "stream",
     "text": [
      "[2, 4, 6, 8, 10, 12, 14, 16, 18, 20]\n"
     ]
    }
   ],
   "source": [
    "list1=list(range(1,21))\n",
    "list_even=filter(lambda i:i%2==0,list1)\n",
    "print(list(list_even))"
   ]
  },
  {
   "cell_type": "markdown",
   "id": "41fce6eb",
   "metadata": {},
   "source": [
    "## Answer 44"
   ]
  },
  {
   "cell_type": "code",
   "execution_count": 7,
   "id": "30326b43",
   "metadata": {},
   "outputs": [
    {
     "name": "stdout",
     "output_type": "stream",
     "text": [
      "[1, 4, 9, 16, 25, 36, 49, 64, 81, 100, 121, 144, 169, 196, 225, 256, 289, 324, 361, 400]\n"
     ]
    }
   ],
   "source": [
    "list1=list(range(1,21))\n",
    "list_square=map(lambda i:i**2,list1)\n",
    "print(list(list_square))"
   ]
  },
  {
   "cell_type": "markdown",
   "id": "3b2ee2e8",
   "metadata": {},
   "source": [
    "## Answer 45"
   ]
  },
  {
   "cell_type": "code",
   "execution_count": 10,
   "id": "484ba29a",
   "metadata": {},
   "outputs": [
    {
     "name": "stdout",
     "output_type": "stream",
     "text": [
      "American\n"
     ]
    }
   ],
   "source": [
    "class American:\n",
    "    @staticmethod\n",
    "    def printNationality():\n",
    "        print('American')\n",
    "\n",
    "american=American()\n",
    "american.printNationality()\n"
   ]
  },
  {
   "cell_type": "markdown",
   "id": "97686e91",
   "metadata": {},
   "source": [
    "## Answer 46"
   ]
  },
  {
   "cell_type": "code",
   "execution_count": 9,
   "id": "6bff2846",
   "metadata": {},
   "outputs": [
    {
     "name": "stdout",
     "output_type": "stream",
     "text": [
      "<__main__.American object at 0x00000220340B4130>\n",
      "<__main__.NewYorker object at 0x00000220340B43D0>\n"
     ]
    }
   ],
   "source": [
    "class American:\n",
    "    pass\n",
    "class NewYorker(American):\n",
    "    pass\n",
    "\n",
    "american=American()\n",
    "newyorker=NewYorker()\n",
    "print(american)\n",
    "print(newyorker)"
   ]
  },
  {
   "cell_type": "markdown",
   "id": "2c449342",
   "metadata": {},
   "source": [
    "## Answer 47"
   ]
  },
  {
   "cell_type": "code",
   "execution_count": null,
   "id": "804cbcd9",
   "metadata": {},
   "outputs": [],
   "source": []
  },
  {
   "cell_type": "markdown",
   "id": "93066a19",
   "metadata": {},
   "source": [
    "## Answer 48"
   ]
  },
  {
   "cell_type": "code",
   "execution_count": null,
   "id": "71e74483",
   "metadata": {},
   "outputs": [],
   "source": []
  },
  {
   "cell_type": "markdown",
   "id": "f2ebdef2",
   "metadata": {},
   "source": [
    "## Answer 49"
   ]
  },
  {
   "cell_type": "code",
   "execution_count": null,
   "id": "fd556230",
   "metadata": {},
   "outputs": [],
   "source": []
  },
  {
   "cell_type": "markdown",
   "id": "ea7cd3bc",
   "metadata": {},
   "source": [
    "## Answer 50"
   ]
  },
  {
   "cell_type": "code",
   "execution_count": 2,
   "id": "e334324c",
   "metadata": {},
   "outputs": [
    {
     "ename": "RuntimeError",
     "evalue": "Runtime error",
     "output_type": "error",
     "traceback": [
      "\u001b[1;31m----------------------------------------\u001b[0m",
      "\u001b[1;31mRuntimeError\u001b[0mTraceback (most recent call last)",
      "Input \u001b[1;32mIn [2]\u001b[0m, in \u001b[0;36m<cell line: 1>\u001b[1;34m()\u001b[0m\n\u001b[1;32m----> 1\u001b[0m \u001b[38;5;28;01mraise\u001b[39;00m \u001b[38;5;167;01mRuntimeError\u001b[39;00m(\u001b[38;5;124m\"\u001b[39m\u001b[38;5;124mRuntime error\u001b[39m\u001b[38;5;124m\"\u001b[39m)\n",
      "\u001b[1;31mRuntimeError\u001b[0m: Runtime error"
     ]
    }
   ],
   "source": [
    "raise RuntimeError(\"Runtime error\")"
   ]
  },
  {
   "cell_type": "markdown",
   "id": "7c9068c6",
   "metadata": {},
   "source": [
    "## Answer 51"
   ]
  },
  {
   "cell_type": "code",
   "execution_count": 5,
   "id": "95bcb2d4",
   "metadata": {},
   "outputs": [
    {
     "name": "stdout",
     "output_type": "stream",
     "text": [
      "ZeroDivisionError\n",
      "code end\n"
     ]
    }
   ],
   "source": [
    "def compute():\n",
    "    return 5/0\n",
    "\n",
    "try:\n",
    "    compute()\n",
    "except ZeroDivisionError:\n",
    "    print(\"ZeroDivisionError\")\n",
    "finally:\n",
    "    print('code end')"
   ]
  },
  {
   "cell_type": "markdown",
   "id": "c3392f4f",
   "metadata": {},
   "source": [
    "## Answer 52"
   ]
  },
  {
   "cell_type": "code",
   "execution_count": 3,
   "id": "28936ae2",
   "metadata": {},
   "outputs": [
    {
     "name": "stdout",
     "output_type": "stream",
     "text": [
      "something wrong\n"
     ]
    }
   ],
   "source": [
    "class exception(Exception):\n",
    "    def _init_(self, msg):\n",
    "        self.msg = msg\n",
    "\n",
    "error = exception(\"something wrong\")\n",
    "print(error)"
   ]
  },
  {
   "cell_type": "markdown",
   "id": "7ae3ec42",
   "metadata": {},
   "source": [
    "## Answer 53"
   ]
  },
  {
   "cell_type": "code",
   "execution_count": 4,
   "id": "708229ef",
   "metadata": {},
   "outputs": [
    {
     "name": "stdout",
     "output_type": "stream",
     "text": [
      "enter email add: john@google.com\n",
      "john\n"
     ]
    }
   ],
   "source": [
    "import re\n",
    "emailAddress = input('enter email add: ')\n",
    "pattern = \"(\\w+)@((\\w+\\.)+(com))\"\n",
    "match = re.match(pattern,emailAddress)\n",
    "print(match.group(1))"
   ]
  },
  {
   "cell_type": "markdown",
   "id": "e8901c05",
   "metadata": {},
   "source": [
    "## Answer 54"
   ]
  },
  {
   "cell_type": "code",
   "execution_count": 18,
   "id": "805e533d",
   "metadata": {},
   "outputs": [
    {
     "name": "stdout",
     "output_type": "stream",
     "text": [
      "enter email add: john@google.com\n",
      "google\n"
     ]
    }
   ],
   "source": [
    "import re\n",
    "emailAddress = input('enter email add: ')\n",
    "pattern = \"(\\w+)@(\\w+)\\.(com)\"\n",
    "match = re.match(pattern,emailAddress)\n",
    "print(match.group(2))"
   ]
  },
  {
   "cell_type": "markdown",
   "id": "b20e3a12",
   "metadata": {},
   "source": [
    "## Answer 55"
   ]
  },
  {
   "cell_type": "code",
   "execution_count": 16,
   "id": "5772c1a3",
   "metadata": {},
   "outputs": [
    {
     "name": "stdout",
     "output_type": "stream",
     "text": [
      "2 cats and 3 dogs.\n",
      "['2', '3']\n"
     ]
    }
   ],
   "source": [
    "import re\n",
    "s = input()\n",
    "print (re.findall(\"\\d+\",s))"
   ]
  },
  {
   "cell_type": "markdown",
   "id": "764b3ccb",
   "metadata": {},
   "source": [
    "## Answer 56"
   ]
  },
  {
   "cell_type": "code",
   "execution_count": 19,
   "id": "567450f5",
   "metadata": {},
   "outputs": [
    {
     "name": "stdout",
     "output_type": "stream",
     "text": [
      "hello world\n"
     ]
    }
   ],
   "source": [
    "unicode_string=u\"hello world\"\n",
    "print(unicode_string)\n",
    "\n"
   ]
  },
  {
   "cell_type": "markdown",
   "id": "5202f037",
   "metadata": {},
   "source": [
    "## Answer 57"
   ]
  },
  {
   "cell_type": "code",
   "execution_count": 20,
   "id": "38544e7f",
   "metadata": {},
   "outputs": [
    {
     "name": "stdout",
     "output_type": "stream",
     "text": [
      "enter string: hello world\n",
      "b'hello world'\n"
     ]
    }
   ],
   "source": [
    "str1=input(\"enter string: \")\n",
    "enc=str1.encode('utf-8')\n",
    "print(enc)"
   ]
  },
  {
   "cell_type": "markdown",
   "id": "fa2f2821",
   "metadata": {},
   "source": [
    "## Answer 58"
   ]
  },
  {
   "cell_type": "code",
   "execution_count": 21,
   "id": "daa72606",
   "metadata": {},
   "outputs": [],
   "source": [
    "# -*- coding: utf-8 -*-"
   ]
  },
  {
   "cell_type": "markdown",
   "id": "8445fae6",
   "metadata": {},
   "source": [
    "## Answer 59"
   ]
  },
  {
   "cell_type": "code",
   "execution_count": 22,
   "id": "59dd08f2",
   "metadata": {},
   "outputs": [
    {
     "name": "stdout",
     "output_type": "stream",
     "text": [
      "enter a number: 5\n",
      "3.55\n"
     ]
    }
   ],
   "source": [
    "n = int(input(\"enter a number: \"))\n",
    "sum = 0\n",
    "for i in range(1, n+1):\n",
    "    sum+= i/(i+1)\n",
    "print(round(sum, 2))"
   ]
  },
  {
   "cell_type": "markdown",
   "id": "738c6684",
   "metadata": {},
   "source": [
    "## Answer 60"
   ]
  },
  {
   "cell_type": "code",
   "execution_count": 23,
   "id": "2a21e521",
   "metadata": {},
   "outputs": [
    {
     "name": "stdout",
     "output_type": "stream",
     "text": [
      "Enter input: 5\n",
      "500\n"
     ]
    }
   ],
   "source": [
    "def f(n):\n",
    "    if n == 0:\n",
    "        return 0\n",
    "    return f(n-1) + 100\n",
    "\n",
    "no = int(input(\"Enter input: \"))\n",
    "print(f(no))"
   ]
  },
  {
   "cell_type": "markdown",
   "id": "11e29651",
   "metadata": {},
   "source": [
    "## Answer 61"
   ]
  },
  {
   "cell_type": "code",
   "execution_count": 25,
   "id": "e4c2719c",
   "metadata": {},
   "outputs": [
    {
     "name": "stdout",
     "output_type": "stream",
     "text": [
      "Enter input: 7\n",
      "13\n"
     ]
    }
   ],
   "source": [
    "def f(n):\n",
    "    if n == 0:\n",
    "        return 0\n",
    "    elif n==1:\n",
    "        return 1\n",
    "    else:\n",
    "        return f(n-1) + f(n-2)\n",
    "\n",
    "no = int(input(\"Enter input: \"))\n",
    "print(f(no))"
   ]
  },
  {
   "cell_type": "markdown",
   "id": "e97a118a",
   "metadata": {},
   "source": [
    "## Answer 62"
   ]
  },
  {
   "cell_type": "code",
   "execution_count": 30,
   "id": "9498147c",
   "metadata": {},
   "outputs": [
    {
     "name": "stdout",
     "output_type": "stream",
     "text": [
      "Enter input: 7\n",
      "0,1,1,2,3,5,8,13,"
     ]
    }
   ],
   "source": [
    "def f(n):\n",
    "    if n == 0:\n",
    "        return 0\n",
    "    elif n==1:\n",
    "        return 1\n",
    "    else:\n",
    "        return f(n-1) + f(n-2)\n",
    "\n",
    "no = int(input(\"Enter input: \"))\n",
    "for i in range(no+1):\n",
    "    print(f(i),end=',')"
   ]
  },
  {
   "cell_type": "markdown",
   "id": "3473364d",
   "metadata": {},
   "source": [
    "## Answer 63"
   ]
  },
  {
   "cell_type": "code",
   "execution_count": 31,
   "id": "8b6e65d0",
   "metadata": {},
   "outputs": [
    {
     "name": "stdout",
     "output_type": "stream",
     "text": [
      "enter a number10\n",
      "0,2,4,6,8,10,"
     ]
    }
   ],
   "source": [
    "no=int(input(\"enter a number\"))\n",
    "for i in range(no+1):\n",
    "    if(i%2==0):\n",
    "        print(i,end=',')"
   ]
  },
  {
   "cell_type": "markdown",
   "id": "1639f347",
   "metadata": {},
   "source": [
    "## Answer 64"
   ]
  },
  {
   "cell_type": "code",
   "execution_count": 32,
   "id": "5cb157c4",
   "metadata": {},
   "outputs": [
    {
     "name": "stdout",
     "output_type": "stream",
     "text": [
      "enter a number100\n",
      "0,35,70,"
     ]
    }
   ],
   "source": [
    "no=int(input(\"enter a number\"))\n",
    "for i in range(no+1):\n",
    "    if(i%5==0 and i%7==0):\n",
    "        print(i,end=',')"
   ]
  },
  {
   "cell_type": "markdown",
   "id": "a735e2a5",
   "metadata": {},
   "source": [
    "## Answer 65"
   ]
  },
  {
   "cell_type": "code",
   "execution_count": 36,
   "id": "4fb9dc75",
   "metadata": {},
   "outputs": [],
   "source": [
    "list=[2,4,6,8]\n",
    "for i in list:\n",
    "    assert i%2==0"
   ]
  },
  {
   "cell_type": "markdown",
   "id": "120a74e7",
   "metadata": {},
   "source": [
    "## Answer 66"
   ]
  },
  {
   "cell_type": "code",
   "execution_count": 38,
   "id": "cbe804a0",
   "metadata": {},
   "outputs": [
    {
     "name": "stdout",
     "output_type": "stream",
     "text": [
      "enter expression: 35+3\n",
      "38\n"
     ]
    }
   ],
   "source": [
    "exp=input(\"enter expression: \")\n",
    "print (eval(exp))"
   ]
  },
  {
   "cell_type": "markdown",
   "id": "8cec3200",
   "metadata": {},
   "source": [
    "## Answer 67"
   ]
  },
  {
   "cell_type": "code",
   "execution_count": null,
   "id": "76140c80",
   "metadata": {},
   "outputs": [],
   "source": []
  },
  {
   "cell_type": "markdown",
   "id": "6e823d05",
   "metadata": {},
   "source": [
    "## Answer 68"
   ]
  },
  {
   "cell_type": "code",
   "execution_count": 47,
   "id": "47c614ae",
   "metadata": {},
   "outputs": [
    {
     "name": "stdout",
     "output_type": "stream",
     "text": [
      "94.32420429760236\n"
     ]
    }
   ],
   "source": [
    "import random\n",
    "\n",
    "print(random.uniform(10,100))"
   ]
  },
  {
   "cell_type": "markdown",
   "id": "3b570537",
   "metadata": {},
   "source": [
    "## Answer 69"
   ]
  },
  {
   "cell_type": "code",
   "execution_count": 48,
   "id": "d89a0898",
   "metadata": {},
   "outputs": [
    {
     "name": "stdout",
     "output_type": "stream",
     "text": [
      "11.250927815357212\n"
     ]
    }
   ],
   "source": [
    "import random\n",
    "\n",
    "print(random.uniform(5,95))"
   ]
  },
  {
   "cell_type": "markdown",
   "id": "40cbaf11",
   "metadata": {},
   "source": [
    "## Answer 70"
   ]
  },
  {
   "cell_type": "code",
   "execution_count": 55,
   "id": "1acd4bfd",
   "metadata": {},
   "outputs": [
    {
     "name": "stdout",
     "output_type": "stream",
     "text": [
      "8\n"
     ]
    }
   ],
   "source": [
    "import random\n",
    "print(random.choice([x for x in range(11) if x%2==0]))"
   ]
  },
  {
   "cell_type": "markdown",
   "id": "0675a9c2",
   "metadata": {},
   "source": [
    "## Answer 71"
   ]
  },
  {
   "cell_type": "code",
   "execution_count": 54,
   "id": "bb165fc4",
   "metadata": {},
   "outputs": [
    {
     "name": "stdout",
     "output_type": "stream",
     "text": [
      "105\n"
     ]
    }
   ],
   "source": [
    "import random\n",
    "print(random.choice([x for x in range(10,151) if x%5==0 and x%7==0]))"
   ]
  },
  {
   "cell_type": "markdown",
   "id": "5a90c7a5",
   "metadata": {},
   "source": [
    "## Answer 72"
   ]
  },
  {
   "cell_type": "code",
   "execution_count": 3,
   "id": "f688e2a1",
   "metadata": {},
   "outputs": [
    {
     "name": "stdout",
     "output_type": "stream",
     "text": [
      "[190, 125, 180, 133, 138]\n"
     ]
    }
   ],
   "source": [
    "import random\n",
    "\n",
    "\n",
    "list=[i for i in range(100,201)]\n",
    "print(random.sample(list,5))"
   ]
  },
  {
   "cell_type": "markdown",
   "id": "ea83922a",
   "metadata": {},
   "source": [
    "## Answer 73"
   ]
  },
  {
   "cell_type": "code",
   "execution_count": 4,
   "id": "0f0d8d6b",
   "metadata": {},
   "outputs": [
    {
     "name": "stdout",
     "output_type": "stream",
     "text": [
      "[178, 166, 134, 102, 164]\n"
     ]
    }
   ],
   "source": [
    "import random\n",
    "\n",
    "\n",
    "list=[i for i in range(100,201) if(i%2==0)]\n",
    "print(random.sample(list,5))"
   ]
  },
  {
   "cell_type": "markdown",
   "id": "af0619d0",
   "metadata": {},
   "source": [
    "## Answer 74"
   ]
  },
  {
   "cell_type": "code",
   "execution_count": 6,
   "id": "214c86c0",
   "metadata": {},
   "outputs": [
    {
     "name": "stdout",
     "output_type": "stream",
     "text": [
      "[315, 35, 840, 630, 805]\n"
     ]
    }
   ],
   "source": [
    "import random\n",
    "\n",
    "\n",
    "list=[i for i in range(1,1001) if(i%5==0 and i%7==0)]\n",
    "print(random.sample(list,5))"
   ]
  },
  {
   "cell_type": "markdown",
   "id": "c8e223f0",
   "metadata": {},
   "source": [
    "## Answer 75"
   ]
  },
  {
   "cell_type": "code",
   "execution_count": 8,
   "id": "b33d662e",
   "metadata": {},
   "outputs": [
    {
     "name": "stdout",
     "output_type": "stream",
     "text": [
      "12\n"
     ]
    }
   ],
   "source": [
    "import random\n",
    "print(random.randrange(7,16))"
   ]
  },
  {
   "cell_type": "markdown",
   "id": "54874a72",
   "metadata": {},
   "source": [
    "## Answer 78"
   ]
  },
  {
   "cell_type": "code",
   "execution_count": 17,
   "id": "9c3a28e4",
   "metadata": {},
   "outputs": [
    {
     "name": "stdout",
     "output_type": "stream",
     "text": [
      "[8, 7, 3, 6]\n"
     ]
    }
   ],
   "source": [
    "from random import shuffle\n",
    "list1=[3,6,7,8]\n",
    "shuffle(list1)\n",
    "print(list1)"
   ]
  },
  {
   "cell_type": "markdown",
   "id": "e1e46d6d",
   "metadata": {},
   "source": [
    "## Answer 80 "
   ]
  },
  {
   "cell_type": "code",
   "execution_count": 20,
   "id": "9b283f37",
   "metadata": {},
   "outputs": [
    {
     "name": "stdout",
     "output_type": "stream",
     "text": [
      "[5, 77, 45]\n"
     ]
    }
   ],
   "source": [
    "list1=[5,6,77,45,22,12,24]\n",
    "list1=[i for i in list1 if(i%2!=0)]\n",
    "print(list1)"
   ]
  },
  {
   "cell_type": "markdown",
   "id": "c264b304",
   "metadata": {},
   "source": [
    "## Answer 81"
   ]
  },
  {
   "cell_type": "code",
   "execution_count": 21,
   "id": "ed1fd99e",
   "metadata": {},
   "outputs": [
    {
     "name": "stdout",
     "output_type": "stream",
     "text": [
      "[6, 22, 12, 24]\n"
     ]
    }
   ],
   "source": [
    "list1=[5,6,77,45,22,12,24]\n",
    "list1=[i for i in list1 if(i%5!=0 and i%7!=0)]\n",
    "print(list1)"
   ]
  },
  {
   "cell_type": "markdown",
   "id": "fc0d7b31",
   "metadata": {},
   "source": [
    "## Answer 82"
   ]
  },
  {
   "cell_type": "code",
   "execution_count": 23,
   "id": "a2d07ee4",
   "metadata": {},
   "outputs": [
    {
     "name": "stdout",
     "output_type": "stream",
     "text": [
      "[24, 70, 120]\n"
     ]
    }
   ],
   "source": [
    "list1=[12,24,35,70,88,120,155]\n",
    "list1=[value for (index,value) in enumerate(list1) if index not in (0,2,4,6)]\n",
    "print(list1)"
   ]
  },
  {
   "cell_type": "markdown",
   "id": "4bf51d7b",
   "metadata": {},
   "source": [
    "## Answer 83"
   ]
  },
  {
   "cell_type": "code",
   "execution_count": 24,
   "id": "826d2ea2",
   "metadata": {},
   "outputs": [
    {
     "name": "stdout",
     "output_type": "stream",
     "text": [
      "[12, 88, 120, 155]\n"
     ]
    }
   ],
   "source": [
    "list1=[12,24,35,70,88,120,155]\n",
    "list1=[value for (index,value) in enumerate(list1) if index not in (1,2,3)]\n",
    "print(list1)"
   ]
  },
  {
   "cell_type": "markdown",
   "id": "a02c60f9",
   "metadata": {},
   "source": [
    "## Answer 85"
   ]
  },
  {
   "cell_type": "code",
   "execution_count": 25,
   "id": "7b06fafa",
   "metadata": {},
   "outputs": [
    {
     "name": "stdout",
     "output_type": "stream",
     "text": [
      "[24, 35, 70, 155]\n"
     ]
    }
   ],
   "source": [
    "list1=[12,24,35,70,88,120,155]\n",
    "list1=[value for (index,value) in enumerate(list1) if index not in (0,4,5)]\n",
    "print(list1)"
   ]
  },
  {
   "cell_type": "markdown",
   "id": "6a2d3a2a",
   "metadata": {},
   "source": [
    "## Answer 86"
   ]
  },
  {
   "cell_type": "code",
   "execution_count": 29,
   "id": "cb3b1e31",
   "metadata": {},
   "outputs": [
    {
     "name": "stdout",
     "output_type": "stream",
     "text": [
      "[12, 35, 70, 88, 120, 155]\n"
     ]
    }
   ],
   "source": [
    "list1=[12,24,35,70,88,120,155]\n",
    "list1=[value for (index,value) in enumerate(list1) if value!=(24)]\n",
    "print(list1)"
   ]
  },
  {
   "cell_type": "markdown",
   "id": "1098ee03",
   "metadata": {},
   "source": [
    "## Answer 91"
   ]
  },
  {
   "cell_type": "code",
   "execution_count": 31,
   "id": "6ffaa4ae",
   "metadata": {},
   "outputs": [
    {
     "name": "stdout",
     "output_type": "stream",
     "text": [
      "Enter a string: hello i am saurabh\n",
      "hbaruas ma i olleh\n"
     ]
    }
   ],
   "source": [
    "str1=input(\"Enter a string: \")\n",
    "\n",
    "print(str1[::-1])"
   ]
  },
  {
   "cell_type": "markdown",
   "id": "7c5e7a73",
   "metadata": {},
   "source": [
    "## Answer 92"
   ]
  },
  {
   "cell_type": "code",
   "execution_count": 32,
   "id": "9032ff73",
   "metadata": {},
   "outputs": [
    {
     "name": "stdout",
     "output_type": "stream",
     "text": [
      "Enter a string: hello i am saurabh\n",
      "hloia arb\n"
     ]
    }
   ],
   "source": [
    "str1=input(\"Enter a string: \")\n",
    "\n",
    "print(str1[::2])"
   ]
  },
  {
   "cell_type": "code",
   "execution_count": null,
   "id": "9bf7749b",
   "metadata": {},
   "outputs": [],
   "source": []
  }
 ],
 "metadata": {
  "kernelspec": {
   "display_name": "Python 3 (ipykernel)",
   "language": "python",
   "name": "python3"
  },
  "language_info": {
   "codemirror_mode": {
    "name": "ipython",
    "version": 3
   },
   "file_extension": ".py",
   "mimetype": "text/x-python",
   "name": "python",
   "nbconvert_exporter": "python",
   "pygments_lexer": "ipython3",
   "version": "3.8.9"
  }
 },
 "nbformat": 4,
 "nbformat_minor": 5
}
